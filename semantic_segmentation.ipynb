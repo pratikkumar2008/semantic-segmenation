{
 "cells": [
  {
   "cell_type": "code",
   "execution_count": null,
   "metadata": {
    "collapsed": true
   },
   "outputs": [],
   "source": [
    "import numpy as np\n",
    "import matplotlib.pyplot as plt"
   ]
  },
  {
   "cell_type": "code",
   "execution_count": null,
   "metadata": {
    "collapsed": true
   },
   "outputs": [],
   "source": [
    "#Keras ModelCheckpoint is used for saving the model.\n",
    "\n",
    "#load_model is used to load the saved model.\n",
    "\n",
    "#plot_model is used to plot the model.\n"
   ]
  },
  {
   "cell_type": "code",
   "execution_count": null,
   "metadata": {
    "collapsed": true
   },
   "outputs": [],
   "source": [
    "from keras.callbacks import ModelCheckpoint  \n",
    "from keras.models import load_model\n",
    "from keras.utils import plot_model"
   ]
  },
  {
   "cell_type": "code",
   "execution_count": null,
   "metadata": {
    "collapsed": true
   },
   "outputs": [],
   "source": [
    "#loadData is userDefined module for loading the data in correct format.\n",
    "#myModels is userDefined module for loading the 2 architecture models."
   ]
  },
  {
   "cell_type": "code",
   "execution_count": null,
   "metadata": {
    "collapsed": true
   },
   "outputs": [],
   "source": [
    "from loadData import load_dataset, paths_to_tensor_RGB,paths_to_tensor_RGB_One_hot_encoding\n",
    "from myModels import mySkipModel,mySeqModel"
   ]
  },
  {
   "cell_type": "code",
   "execution_count": null,
   "metadata": {
    "collapsed": true
   },
   "outputs": [],
   "source": [
    "path='data/trainInput'\n",
    "inputImage=load_dataset(path)"
   ]
  },
  {
   "cell_type": "code",
   "execution_count": null,
   "metadata": {
    "collapsed": true
   },
   "outputs": [],
   "source": [
    "path='data/trainClass'\n",
    "segmentedImage=load_dataset(path)"
   ]
  },
  {
   "cell_type": "code",
   "execution_count": null,
   "metadata": {
    "collapsed": true
   },
   "outputs": [],
   "source": [
    "#splitting the train data as mentioned in the project"
   ]
  },
  {
   "cell_type": "code",
   "execution_count": null,
   "metadata": {
    "collapsed": true
   },
   "outputs": [],
   "source": [
    "trainImage=inputImage[0:2500]\n",
    "segmentedTrainImage=segmentedImage[0:2500]"
   ]
  },
  {
   "cell_type": "code",
   "execution_count": null,
   "metadata": {
    "collapsed": true
   },
   "outputs": [],
   "source": [
    "valImage=inputImage[2500:2613]\n",
    "segmentedValImage=segmentedImage[2500:2613]"
   ]
  },
  {
   "cell_type": "code",
   "execution_count": null,
   "metadata": {
    "collapsed": true
   },
   "outputs": [],
   "source": [
    "testImage=inputImage[2613:]\n",
    "segmentedTestImage=segmentedImage[2613:]"
   ]
  },
  {
   "cell_type": "code",
   "execution_count": null,
   "metadata": {
    "collapsed": true
   },
   "outputs": [],
   "source": [
    "#fetching trainTensors"
   ]
  },
  {
   "cell_type": "code",
   "execution_count": null,
   "metadata": {},
   "outputs": [],
   "source": [
    "train_tensors_RGB = paths_to_tensor_RGB(trainImage)"
   ]
  },
  {
   "cell_type": "code",
   "execution_count": null,
   "metadata": {
    "collapsed": true
   },
   "outputs": [],
   "source": [
    "#taking the mean of the train data"
   ]
  },
  {
   "cell_type": "code",
   "execution_count": null,
   "metadata": {
    "collapsed": true
   },
   "outputs": [],
   "source": [
    "train_mean_RGB=np.mean(train_tensors_RGB, (0,1,2))"
   ]
  },
  {
   "cell_type": "code",
   "execution_count": null,
   "metadata": {},
   "outputs": [],
   "source": [
    "print(train_mean_RGB)"
   ]
  },
  {
   "cell_type": "code",
   "execution_count": null,
   "metadata": {},
   "outputs": [],
   "source": [
    "segmented_train_tensors_RGB = paths_to_tensor_RGB_One_hot_encoding(segmentedTrainImage)"
   ]
  },
  {
   "cell_type": "code",
   "execution_count": null,
   "metadata": {
    "collapsed": true
   },
   "outputs": [],
   "source": [
    "#fetching valTensors"
   ]
  },
  {
   "cell_type": "code",
   "execution_count": null,
   "metadata": {},
   "outputs": [],
   "source": [
    "val_tensors_RGB = paths_to_tensor_RGB(valImage)"
   ]
  },
  {
   "cell_type": "code",
   "execution_count": null,
   "metadata": {},
   "outputs": [],
   "source": [
    "segmented_val_tensors_RGB = paths_to_tensor_RGB_One_hot_encoding(segmentedValImage)"
   ]
  },
  {
   "cell_type": "code",
   "execution_count": null,
   "metadata": {
    "collapsed": true
   },
   "outputs": [],
   "source": [
    "#fetching testTensors"
   ]
  },
  {
   "cell_type": "code",
   "execution_count": null,
   "metadata": {},
   "outputs": [],
   "source": [
    "test_tensors_RGB = paths_to_tensor_RGB(testImage)"
   ]
  },
  {
   "cell_type": "code",
   "execution_count": null,
   "metadata": {},
   "outputs": [],
   "source": [
    "segmented_test_tensors_RGB = paths_to_tensor_RGB_One_hot_encoding(segmentedTestImage)"
   ]
  },
  {
   "cell_type": "code",
   "execution_count": null,
   "metadata": {},
   "outputs": [],
   "source": [
    "print(segmented_train_tensors_RGB.shape,segmented_val_tensors_RGB.shape,segmented_test_tensors_RGB.shape)\n",
    "print(train_tensors_RGB.shape,val_tensors_RGB.shape,test_tensors_RGB.shape)"
   ]
  },
  {
   "cell_type": "code",
   "execution_count": null,
   "metadata": {
    "collapsed": true
   },
   "outputs": [],
   "source": [
    "#calling method for skipModel"
   ]
  },
  {
   "cell_type": "code",
   "execution_count": null,
   "metadata": {},
   "outputs": [],
   "source": [
    "model_skip=mySkipModel(myInputShape=(160,320,3))\n",
    "model_skip.summary()"
   ]
  },
  {
   "cell_type": "code",
   "execution_count": null,
   "metadata": {
    "collapsed": true
   },
   "outputs": [],
   "source": [
    "#calling method for seqModel"
   ]
  },
  {
   "cell_type": "code",
   "execution_count": null,
   "metadata": {},
   "outputs": [],
   "source": [
    "model_seq=mySeqModel(myInputShape=(160,320,3))\n",
    "model_seq.summary()"
   ]
  },
  {
   "cell_type": "code",
   "execution_count": null,
   "metadata": {
    "collapsed": true
   },
   "outputs": [],
   "source": [
    "model_skip.compile(optimizer='rmsprop', loss='categorical_crossentropy', metrics=['categorical_accuracy'])\n",
    "model_seq.compile(optimizer='rmsprop', loss='categorical_crossentropy', metrics=['categorical_accuracy'])"
   ]
  },
  {
   "cell_type": "code",
   "execution_count": null,
   "metadata": {
    "collapsed": true
   },
   "outputs": [],
   "source": [
    "#having two checkpointer for both the models to monitor 'loss' and 'val_loss'"
   ]
  },
  {
   "cell_type": "code",
   "execution_count": null,
   "metadata": {
    "collapsed": true
   },
   "outputs": [],
   "source": [
    "\n",
    "epochs = 300\n",
    "checkpointer_skip_loss = ModelCheckpoint(monitor='loss',filepath='saved_models/weights.best.from_skip_loss.hdf5',verbose=1, save_best_only=True)\n",
    "checkpointer_skip_val_loss = ModelCheckpoint(monitor='val_loss',filepath='saved_models/weights.best.from_skip_val-loss.hdf5',verbose=1, save_best_only=True)\n",
    "\n",
    "checkpointer_seq_loss = ModelCheckpoint(monitor='loss',filepath='saved_models/weights.best.from_seq_loss.hdf5',verbose=1, save_best_only=True)\n",
    "checkpointer_seq_val_loss = ModelCheckpoint(monitor='val_loss',filepath='saved_models/weights.best.from_seq_val-loss.hdf5',verbose=1, save_best_only=True)"
   ]
  },
  {
   "cell_type": "code",
   "execution_count": null,
   "metadata": {},
   "outputs": [],
   "source": [
    "model_skip.fit(train_tensors_RGB-train_mean_RGB,segmented_train_tensors_RGB,validation_data=(val_tensors_RGB,segmented_val_tensors_RGB),shuffle=True,\n",
    "          epochs=epochs, batch_size=8, callbacks=[checkpointer_skip_loss,checkpointer_skip_val_loss], verbose=1)"
   ]
  },
  {
   "cell_type": "code",
   "execution_count": null,
   "metadata": {
    "collapsed": true
   },
   "outputs": [],
   "source": [
    "model_seq.fit(train_tensors_RGB-train_mean_RGB,segmented_train_tensors_RGB,validation_data=(val_tensors_RGB,segmented_val_tensors_RGB),shuffle=True,\n",
    "          epochs=epochs, batch_size=8, callbacks=[checkpointer_seq_loss,checkpointer_seq_val_loss], verbose=1)"
   ]
  },
  {
   "cell_type": "code",
   "execution_count": null,
   "metadata": {
    "collapsed": true
   },
   "outputs": [],
   "source": [
    "print(segmented_train_tensors_RGB.shape,segmented_val_tensors_RGB.shape,segmented_test_tensors_RGB.shape)\n",
    "print(train_tensors_RGB.shape,val_tensors_RGB.shape,test_tensors_RGB.shape)"
   ]
  },
  {
   "cell_type": "code",
   "execution_count": null,
   "metadata": {
    "collapsed": true
   },
   "outputs": [],
   "source": [
    "#plotting the model architecture"
   ]
  },
  {
   "cell_type": "code",
   "execution_count": null,
   "metadata": {
    "collapsed": true
   },
   "outputs": [],
   "source": [
    "plot_model(model_seq, to_file='model_seq.png')\n",
    "plot_model(model_skip, to_file='model_skip.png')"
   ]
  },
  {
   "cell_type": "code",
   "execution_count": null,
   "metadata": {
    "collapsed": true
   },
   "outputs": [],
   "source": [
    "model_seq=load_model('saved_models/weights.best.from_seq_val-loss.hdf5')\n",
    "model_seq.summary()"
   ]
  },
  {
   "cell_type": "code",
   "execution_count": null,
   "metadata": {
    "collapsed": true
   },
   "outputs": [],
   "source": [
    "model_skip_loss = load_model('saved_models/weights.best.from_skip_loss.hdf5')\n",
    "model_skip_loss.summary()"
   ]
  },
  {
   "cell_type": "code",
   "execution_count": null,
   "metadata": {
    "collapsed": true
   },
   "outputs": [],
   "source": [
    "model_skip_val_loss = load_model('saved_models/weights.best.from_skip_val-loss.hdf5')\n",
    "model_skip_val_loss.summary()"
   ]
  },
  {
   "cell_type": "code",
   "execution_count": null,
   "metadata": {
    "collapsed": true
   },
   "outputs": [],
   "source": [
    "print('model_seq-train-categorcal_accuracy',model_seq.metrics_names,model_seq.evaluate(train_tensors_RGB-train_mean_RGB,segmented_train_tensors_RGB))\n",
    "print('model_seq-val-categorcal_accuracy',model_seq.metrics_names,model_seq.evaluate(val_tensors_RGB-train_mean_RGB,segmented_val_tensors_RGB))\n",
    "print('model_seq-test-categorcal_accuracy',model_seq.metrics_names,model_seq.evaluate(test_tensors_RGB-train_mean_RGB,segmented_test_tensors_RGB))"
   ]
  },
  {
   "cell_type": "code",
   "execution_count": null,
   "metadata": {
    "collapsed": true
   },
   "outputs": [],
   "source": [
    "print('model_skip-loss-categorcal_accuracy',model_skip_loss.metrics_names,model_skip_loss.evaluate(train_tensors_RGB-train_mean_RGB,segmented_train_tensors_RGB))\n",
    "print('model_skip-loss-val-categorcal_accuracy',model_skip_loss.metrics_names,model_skip_loss.evaluate(val_tensors_RGB-train_mean_RGB,segmented_val_tensors_RGB))\n",
    "print('model_skip-loss-test-categorcal_accuracy',model_skip_loss.metrics_names,model_skip_loss.evaluate(test_tensors_RGB-train_mean_RGB,segmented_test_tensors_RGB))"
   ]
  },
  {
   "cell_type": "code",
   "execution_count": null,
   "metadata": {
    "collapsed": true
   },
   "outputs": [],
   "source": [
    "print('model_skip_val-loss-train-categorcal_accuracy',model_skip_val_loss.metrics_names,model_skip_val_loss.evaluate(train_tensors_RGB-train_mean_RGB,segmented_train_tensors_RGB))\n",
    "print('model_skip_val-loss-val-categorcal_accuracy',model_skip_val_loss.metrics_names,model_skip_val_loss.evaluate(val_tensors_RGB-train_mean_RGB,segmented_val_tensors_RGB))\n",
    "print('model_skip_val-loss-test-categorcal_accuracy',model_skip_val_loss.metrics_names,model_skip_val_loss.evaluate(test_tensors_RGB-train_mean_RGB,segmented_test_tensors_RGB))"
   ]
  },
  {
   "cell_type": "code",
   "execution_count": null,
   "metadata": {
    "collapsed": true
   },
   "outputs": [],
   "source": [
    "#Calculating MeanIU"
   ]
  },
  {
   "cell_type": "code",
   "execution_count": null,
   "metadata": {
    "collapsed": true
   },
   "outputs": [],
   "source": [
    "from myaccuracy import computeIU"
   ]
  },
  {
   "cell_type": "code",
   "execution_count": null,
   "metadata": {
    "collapsed": true
   },
   "outputs": [],
   "source": [
    "ypred_seq_train=model_seq.predict(train_tensors_RGB-train_mean_RGB)\n",
    "ypred_seq_val=model_seq.predict(val_tensors_RGB-train_mean_RGB)\n",
    "ypred_seq_test=model_seq.predict(test_tensors_RGB-train_mean_RGB)"
   ]
  },
  {
   "cell_type": "code",
   "execution_count": null,
   "metadata": {
    "collapsed": true
   },
   "outputs": [],
   "source": [
    "print('ypred_seq_train-MeanIU',computeIU(ypred_seq_train,segmented_train_tensors_RGB))\n",
    "print('ypred_seq_val-MeanIU',computeIU(ypred_seq_val,segmented_val_tensors_RGB))\n",
    "print('ypred_seq_test-MeanIU',computeIU(ypred_seq_test,segmented_test_tensors_RGB))"
   ]
  },
  {
   "cell_type": "code",
   "execution_count": null,
   "metadata": {
    "collapsed": true
   },
   "outputs": [],
   "source": [
    "ypred_skip_loss_train=model_skip_loss.predict(train_tensors_RGB-train_mean_RGB)\n",
    "ypred_skip_loss_val=model_skip_loss.predict(val_tensors_RGB-train_mean_RGB)\n",
    "ypred_skip_loss_test=model_skip_loss.predict(test_tensors_RGB-train_mean_RGB)"
   ]
  },
  {
   "cell_type": "code",
   "execution_count": null,
   "metadata": {
    "collapsed": true
   },
   "outputs": [],
   "source": [
    "print('ypred_skip-loss_train-MeanIU',computeIU(ypred_skip_loss_train,segmented_train_tensors_RGB))\n",
    "print('ypred_skip-loss_val-MeanIU',computeIU(ypred_skip_loss_val,segmented_val_tensors_RGB))\n",
    "print('ypred_skip-loss_test-MeanIU',computeIU(ypred_skip_loss_test,segmented_test_tensors_RGB))"
   ]
  },
  {
   "cell_type": "code",
   "execution_count": null,
   "metadata": {
    "collapsed": true,
    "scrolled": true
   },
   "outputs": [],
   "source": [
    "ypred_skip_val_loss_train=model_skip_val_loss.predict(train_tensors_RGB-train_mean_RGB)\n",
    "ypred_skip_val_loss_val=model_skip_val_loss.predict(val_tensors_RGB-train_mean_RGB)\n",
    "ypred_skip_val_loss_test=model_skip_val_loss.predict(test_tensors_RGB-train_mean_RGB)"
   ]
  },
  {
   "cell_type": "code",
   "execution_count": null,
   "metadata": {
    "collapsed": true
   },
   "outputs": [],
   "source": [
    "print('ypred_skip-val_loss_train-MeanIU',computeIU(ypred_skip_val_loss_train,segmented_train_tensors_RGB))\n",
    "print('ypred_skip-val_loss_val-MeanIU',computeIU(ypred_skip_val_loss_val,segmented_val_tensors_RGB))\n",
    "print('ypred_skip-val_loss_test-MeanIU',computeIU(ypred_skip_val_loss_test,segmented_test_tensors_RGB))"
   ]
  },
  {
   "cell_type": "code",
   "execution_count": null,
   "metadata": {
    "collapsed": true
   },
   "outputs": [],
   "source": [
    "ind=15\n",
    "x=train_tensors_RGB[ind]\n",
    "y=segmented_train_tensors_RGB[ind]\n",
    "#x=val_tensors_RGB[ind]\n",
    "#y=segmented_val_tensors_RGB[ind]\n",
    "\n",
    "#x=test_tensors_RGB[ind]\n",
    "#y=segmented_test_tensors_RGB[ind]\n",
    "\n",
    "mean=np.array([116.59840288,112.4524989,103.26653028])\n",
    "a=model_skip_val_loss.predict(np.expand_dims((x-mean), axis=0))\n",
    "a=np.squeeze(a,axis=0)\n",
    "\n",
    "output = np.argmax(a, axis = 2)\n",
    "\n",
    "print(np.unique(output))\n",
    "\n",
    "\n",
    "input_masked=np.argmax(y, axis = 2)\n",
    "print(np.unique(input_masked))\n",
    "f, axarr = plt.subplots(1,3)\n",
    "axarr[0].imshow(output)\n",
    "axarr[1].imshow(input_masked)\n",
    "axarr[2].imshow(x)\n",
    "plt.show()\n",
    "plt.imshow(x)\n",
    "plt.show()\n",
    "plt.imshow(input_masked)\n",
    "plt.show()\n"
   ]
  }
 ],
 "metadata": {
  "kernelspec": {
   "display_name": "Python 3",
   "language": "python",
   "name": "python3"
  },
  "language_info": {
   "codemirror_mode": {
    "name": "ipython",
    "version": 3
   },
   "file_extension": ".py",
   "mimetype": "text/x-python",
   "name": "python",
   "nbconvert_exporter": "python",
   "pygments_lexer": "ipython3",
   "version": "3.6.3"
  }
 },
 "nbformat": 4,
 "nbformat_minor": 2
}
